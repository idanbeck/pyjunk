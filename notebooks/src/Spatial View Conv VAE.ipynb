{
 "cells": [
  {
   "cell_type": "code",
   "execution_count": 2,
   "id": "leading-selling",
   "metadata": {},
   "outputs": [
    {
     "name": "stdout",
     "output_type": "stream",
     "text": [
      "The autoreload extension is already loaded. To reload it, use:\n",
      "  %reload_ext autoreload\n",
      "Loading frames 1 to 101\n"
     ]
    },
    {
     "data": {
      "application/vnd.jupyter.widget-view+json": {
       "model_id": "",
       "version_major": 2,
       "version_minor": 0
      },
      "text/plain": [
       "frame:   0%|          | 0/100 [00:00<?, ?it/s]"
      ]
     },
     "metadata": {},
     "output_type": "display_data"
    },
    {
     "name": "stdout",
     "output_type": "stream",
     "text": [
      "Frameset: reflective_primitives_256, 100 frames with 13 channels JIT enabled\n",
      "(100, 256, 256, 37)\n",
      "Frameset: reflective_primitivesRGB, 100 frames with 1 channels JIT enabled\n",
      "(100, 256, 256, 3)\n",
      "(80, 256, 256, 3)\n",
      "(20, 256, 256, 3)\n"
     ]
    }
   ],
   "source": [
    "%load_ext autoreload\n",
    "%autoreload 2\n",
    "\n",
    "# load new frame-set\n",
    "\n",
    "from repos.pyjunk.junktools.frameset import frameset\n",
    "\n",
    "frameset_res = 256\n",
    "#strNewFramesetName = 'primitives_64_wht'\n",
    "strFramesetBaseName = 'reflective_primitives'\n",
    "strFramesetName = strFramesetBaseName + '_' + str(frameset_res)\n",
    "img_size = 32\n",
    "batch_size = 128\n",
    "test_batch_size = 128\n",
    "#num_frames = 4900\n",
    "num_frames = 100\n",
    "#num_frames = None\n",
    "\n",
    "orig_frameset = frameset(strFramesetName, num_frames=num_frames, fJITLoading=True, fVerbose=False)\n",
    "orig_frameset.Print()\n",
    "print(orig_frameset.shape())\n",
    "\n",
    "# Split up into Conditional and RGB Target framesets\n",
    "framesetRGB = frameset(\n",
    "    sourceFrameset=orig_frameset, \n",
    "    strNewFramesetName=strFramesetBaseName + \"RGB\", \n",
    "    sourceChannels=['Color']\n",
    ")\n",
    "\n",
    "framesetRGB.Print()\n",
    "#framesetRGB[0].visualize()\n",
    "\n",
    "# #spheresCond.visualize()\n",
    "# #framesetRGB.visualize()\n",
    "\n",
    "# Shape of a single frame\n",
    "print(framesetRGB.shape())\n",
    "\n",
    "# split spheresRGB into spheresRGB_train, speheresRGB_test\n",
    "\n",
    "framesetRGB_train, framesetRGB_test = framesetRGB.split_into_train_and_test(0.8)\n",
    "print(framesetRGB_train.shape())\n",
    "print(framesetRGB_test.shape())"
   ]
  },
  {
   "cell_type": "code",
   "execution_count": 3,
   "id": "decimal-soundtrack",
   "metadata": {},
   "outputs": [
    {
     "name": "stdout",
     "output_type": "stream",
     "text": [
      "The autoreload extension is already loaded. To reload it, use:\n",
      "  %reload_ext autoreload\n",
      "target dims: 256, 256, 3\n",
      "3\n",
      "spatial 256 -> 128 depth 8 -> 16\n",
      "spatial 128 -> 64 depth 16 -> 32\n",
      "spatial 64 -> 32 depth 32 -> 64\n",
      "spatial 32 -> 16 depth 64 -> 128\n",
      "spatial 16 -> 8 depth 128 -> 256\n",
      "linear 2048 -> 24\n"
     ]
    },
    {
     "data": {
      "application/vnd.jupyter.widget-view+json": {
       "model_id": "877f799147bf45848d5e7b4f91e6f0d7",
       "version_major": 2,
       "version_minor": 0
      },
      "text/plain": [
       "Epoch:   0%|          | 0/100000 [00:00<?, ?it/s]"
      ]
     },
     "metadata": {},
     "output_type": "display_data"
    },
    {
     "data": {
      "application/vnd.jupyter.widget-view+json": {
       "model_id": "9cdd3e2db61246eba6caeff66074aac4",
       "version_major": 2,
       "version_minor": 0
      },
      "text/plain": [
       "training on frame:   0%|          | 0/20 [00:00<?, ?it/s]"
      ]
     },
     "metadata": {},
     "output_type": "display_data"
    },
    {
     "ename": "KeyboardInterrupt",
     "evalue": "",
     "output_type": "error",
     "traceback": [
      "\u001b[0;31m---------------------------------------------------------------------------\u001b[0m",
      "\u001b[0;31mKeyboardInterrupt\u001b[0m                         Traceback (most recent call last)",
      "\u001b[0;32m<ipython-input-3-61b369677b2f>\u001b[0m in \u001b[0;36m<module>\u001b[0;34m\u001b[0m\n\u001b[1;32m     60\u001b[0m     \u001b[0mtrain_frameset\u001b[0m\u001b[0;34m=\u001b[0m\u001b[0mframesetRGB_train\u001b[0m\u001b[0;34m,\u001b[0m\u001b[0;34m\u001b[0m\u001b[0;34m\u001b[0m\u001b[0m\n\u001b[1;32m     61\u001b[0m     \u001b[0mtest_frameset\u001b[0m\u001b[0;34m=\u001b[0m\u001b[0mframesetRGB_test\u001b[0m\u001b[0;34m,\u001b[0m\u001b[0;34m\u001b[0m\u001b[0;34m\u001b[0m\u001b[0m\n\u001b[0;32m---> 62\u001b[0;31m     fVerbose=True)\n\u001b[0m\u001b[1;32m     63\u001b[0m \u001b[0;34m\u001b[0m\u001b[0m\n\u001b[1;32m     64\u001b[0m \u001b[0;31m# Sample the network\u001b[0m\u001b[0;34m\u001b[0m\u001b[0;34m\u001b[0m\u001b[0;34m\u001b[0m\u001b[0m\n",
      "\u001b[0;32m/src/repos/pyjunk/solvers/ConvVAETorchSolver.py\u001b[0m in \u001b[0;36mtrain_frameset_and_plot_losses\u001b[0;34m(self, train_frameset, test_frameset, strTitle, fVerbose)\u001b[0m\n\u001b[1;32m    113\u001b[0m             \u001b[0mtrain_frameset\u001b[0m\u001b[0;34m=\u001b[0m\u001b[0mtrain_frameset\u001b[0m\u001b[0;34m,\u001b[0m\u001b[0;34m\u001b[0m\u001b[0;34m\u001b[0m\u001b[0m\n\u001b[1;32m    114\u001b[0m             \u001b[0mtest_frameset\u001b[0m\u001b[0;34m=\u001b[0m\u001b[0mtest_frameset\u001b[0m\u001b[0;34m,\u001b[0m\u001b[0;34m\u001b[0m\u001b[0;34m\u001b[0m\u001b[0m\n\u001b[0;32m--> 115\u001b[0;31m             \u001b[0mfVerbose\u001b[0m\u001b[0;34m=\u001b[0m\u001b[0mfVerbose\u001b[0m\u001b[0;34m\u001b[0m\u001b[0;34m\u001b[0m\u001b[0m\n\u001b[0m\u001b[1;32m    116\u001b[0m         )\n\u001b[1;32m    117\u001b[0m \u001b[0;34m\u001b[0m\u001b[0m\n",
      "\u001b[0;32m/src/repos/pyjunk/solvers/ConvVAETorchSolver.py\u001b[0m in \u001b[0;36mtrain_for_epochs_frameset\u001b[0;34m(self, train_frameset, test_frameset, fVerbose)\u001b[0m\n\u001b[1;32m     91\u001b[0m         \u001b[0;32mfor\u001b[0m \u001b[0mepoch\u001b[0m \u001b[0;32min\u001b[0m \u001b[0mpbar\u001b[0m\u001b[0;34m:\u001b[0m\u001b[0;34m\u001b[0m\u001b[0;34m\u001b[0m\u001b[0m\n\u001b[1;32m     92\u001b[0m             train_losses = self.train_frameset(\n\u001b[0;32m---> 93\u001b[0;31m                 \u001b[0mtrain_frameset\u001b[0m\u001b[0;34m=\u001b[0m\u001b[0mtrain_frameset\u001b[0m\u001b[0;34m\u001b[0m\u001b[0;34m\u001b[0m\u001b[0m\n\u001b[0m\u001b[1;32m     94\u001b[0m             )\n\u001b[1;32m     95\u001b[0m             \u001b[0mtraining_losses\u001b[0m\u001b[0;34m.\u001b[0m\u001b[0mextend\u001b[0m\u001b[0;34m(\u001b[0m\u001b[0mtrain_losses\u001b[0m\u001b[0;34m)\u001b[0m\u001b[0;34m\u001b[0m\u001b[0;34m\u001b[0m\u001b[0m\n",
      "\u001b[0;32m/src/repos/pyjunk/solvers/ConvVAETorchSolver.py\u001b[0m in \u001b[0;36mtrain_frameset\u001b[0;34m(self, train_frameset)\u001b[0m\n\u001b[1;32m     38\u001b[0m             \u001b[0mstrDesc\u001b[0m \u001b[0;34m=\u001b[0m \u001b[0;34mf'training on frame {frame.strFrameID}'\u001b[0m\u001b[0;34m\u001b[0m\u001b[0;34m\u001b[0m\u001b[0m\n\u001b[1;32m     39\u001b[0m             \u001b[0mpbar\u001b[0m\u001b[0;34m.\u001b[0m\u001b[0mset_description\u001b[0m\u001b[0;34m(\u001b[0m\u001b[0mstrDesc\u001b[0m\u001b[0;34m)\u001b[0m\u001b[0;34m\u001b[0m\u001b[0;34m\u001b[0m\u001b[0m\n\u001b[0;32m---> 40\u001b[0;31m             \u001b[0mloss\u001b[0m \u001b[0;34m=\u001b[0m \u001b[0mself\u001b[0m\u001b[0;34m.\u001b[0m\u001b[0mmodel\u001b[0m\u001b[0;34m.\u001b[0m\u001b[0mloss_with_frame\u001b[0m\u001b[0;34m(\u001b[0m\u001b[0mframe\u001b[0m\u001b[0;34m)\u001b[0m\u001b[0;34m\u001b[0m\u001b[0;34m\u001b[0m\u001b[0m\n\u001b[0m\u001b[1;32m     41\u001b[0m \u001b[0;34m\u001b[0m\u001b[0m\n\u001b[1;32m     42\u001b[0m             \u001b[0mself\u001b[0m\u001b[0;34m.\u001b[0m\u001b[0moptimizer\u001b[0m\u001b[0;34m.\u001b[0m\u001b[0mzero_grad\u001b[0m\u001b[0;34m(\u001b[0m\u001b[0;34m)\u001b[0m\u001b[0;34m\u001b[0m\u001b[0;34m\u001b[0m\u001b[0m\n",
      "\u001b[0;32m/src/repos/pyjunk/models/SpatialViewConvVAE.py\u001b[0m in \u001b[0;36mloss_with_frame\u001b[0;34m(self, frameObject)\u001b[0m\n\u001b[1;32m    290\u001b[0m         \u001b[0mnpFrameBuffer\u001b[0m \u001b[0;34m=\u001b[0m \u001b[0mframeObject\u001b[0m\u001b[0;34m.\u001b[0m\u001b[0mGetNumpyBuffer\u001b[0m\u001b[0;34m(\u001b[0m\u001b[0;34m)\u001b[0m\u001b[0;34m\u001b[0m\u001b[0;34m\u001b[0m\u001b[0m\n\u001b[1;32m    291\u001b[0m         \u001b[0mtorchImageBuffer\u001b[0m \u001b[0;34m=\u001b[0m \u001b[0mtorch\u001b[0m\u001b[0;34m.\u001b[0m\u001b[0mFloatTensor\u001b[0m\u001b[0;34m(\u001b[0m\u001b[0mnpFrameBuffer\u001b[0m\u001b[0;34m)\u001b[0m\u001b[0;34m\u001b[0m\u001b[0;34m\u001b[0m\u001b[0m\n\u001b[0;32m--> 292\u001b[0;31m         \u001b[0mtorchImageBuffer\u001b[0m \u001b[0;34m=\u001b[0m \u001b[0mtorchImageBuffer\u001b[0m\u001b[0;34m.\u001b[0m\u001b[0munsqueeze\u001b[0m\u001b[0;34m(\u001b[0m\u001b[0;36m0\u001b[0m\u001b[0;34m)\u001b[0m\u001b[0;34m.\u001b[0m\u001b[0mto\u001b[0m\u001b[0;34m(\u001b[0m\u001b[0mptu\u001b[0m\u001b[0;34m.\u001b[0m\u001b[0mGetDevice\u001b[0m\u001b[0;34m(\u001b[0m\u001b[0;34m)\u001b[0m\u001b[0;34m)\u001b[0m\u001b[0;34m\u001b[0m\u001b[0;34m\u001b[0m\u001b[0m\n\u001b[0m\u001b[1;32m    293\u001b[0m \u001b[0;34m\u001b[0m\u001b[0m\n\u001b[1;32m    294\u001b[0m         \u001b[0;31m# Retrieve frame view\u001b[0m\u001b[0;34m\u001b[0m\u001b[0;34m\u001b[0m\u001b[0;34m\u001b[0m\u001b[0m\n",
      "\u001b[0;31mKeyboardInterrupt\u001b[0m: "
     ]
    }
   ],
   "source": [
    "%load_ext autoreload\n",
    "%autoreload 2\n",
    "\n",
    "import torch\n",
    "import torch.nn as nn\n",
    "\n",
    "# Conv VAE\n",
    "# Only learns the distribution of the target RGB images\n",
    "# This network doesn't need anything outside of the target images and is entirely unsupervised \n",
    "\n",
    "from repos.pyjunk.models.Model import Model\n",
    "from repos.pyjunk.models.SpatialViewConvVAE import SpatialViewConvVAE\n",
    "from repos.pyjunk.junktools.frameset import frameset\n",
    "from repos.pyjunk.solvers.ConvVAETorchSolver import ConvVAETorchSolver\n",
    "\n",
    "import repos.pyjunk.junktools.pytorch_utils as ptu\n",
    "ptu.SetGPUMode(True)\n",
    "\n",
    "# Set up model\n",
    "num_rgb, H_rgb, W_rgb, C_rgb = framesetRGB.shape()\n",
    "latent_dim = 12\n",
    "batch_size = 20\n",
    "test_batch_size = 10\n",
    "view_dim = 7\n",
    "\n",
    "#print(\"input dims: %d, %d, %d\" % (H_frames, W_frames, C_frames))\n",
    "print(\"target dims: %d, %d, %d\" % (H_rgb, W_rgb, C_rgb))\n",
    "\n",
    "modelConvVAE = SpatialViewConvVAE(\n",
    "    input_shape=(H_rgb, W_rgb, C_rgb),\n",
    "    latent_dim=latent_dim,\n",
    "    view_dim=7,\n",
    "    num_filters = 128,\n",
    "    num_layers = 6\n",
    ")\n",
    "\n",
    "# Test model\n",
    "# npFrameBuffer = framesetRGB_train[0].GetNumpyBuffer()\n",
    "# torchImageBuffer = torch.FloatTensor(npFrameBuffer)\n",
    "# torchImageBuffer = torchImageBuffer.unsqueeze(0).to(ptu.GetDevice())\n",
    "# print(torchImageBuffer.shape)\n",
    "# torchImageBuffer = torchImageBuffer.permute(0, 3, 1, 2)\n",
    "# modelConvVAE.encoder.forward(torchImageBuffer)\n",
    "\n",
    "# loss = modelConvVAE.loss_with_frame(framesetRGB_train[0])\n",
    "# print(loss)\n",
    "\n",
    "# Set up the solver\n",
    "dictSolverParams = {\n",
    "    'lr': 1e-4,\n",
    "    'epochs': 100000,\n",
    "    'strOptimizer': 'Adam',\n",
    "    'batch_size': batch_size,\n",
    "    'test_batch_size': test_batch_size,\n",
    "}\n",
    "\n",
    "# Train on frameset (no minibatching yet)\n",
    "solver = ConvVAETorchSolver(modelConvVAE, dictSolverParams)\n",
    "solver.train_frameset_and_plot_losses(\n",
    "    train_frameset=framesetRGB_train, \n",
    "    test_frameset=framesetRGB_test,\n",
    "    fVerbose=True)\n",
    "\n",
    "# Sample the network\n",
    "sampleImages = modelConvVAE.sample(10)\n",
    "sampleImages[0].visualize()"
   ]
  },
  {
   "cell_type": "code",
   "execution_count": 27,
   "id": "bibliographic-malpractice",
   "metadata": {},
   "outputs": [],
   "source": [
    "import torch\n",
    "\n",
    "strCheckpoint = \"spatialViewConvVAE_checkpoint.tar\"\n",
    "\n",
    "solver.SaveCheckpoint(strCheckpoint, 0, 0)"
   ]
  },
  {
   "cell_type": "code",
   "execution_count": 4,
   "id": "fixed-reconstruction",
   "metadata": {},
   "outputs": [
    {
     "data": {
      "text/plain": [
       "(0, 0)"
      ]
     },
     "execution_count": 4,
     "metadata": {},
     "output_type": "execute_result"
    }
   ],
   "source": [
    "import torch\n",
    "\n",
    "strCheckpoint = \"spatialViewConvVAE_checkpoint.tar\"\n",
    "\n",
    "solver.LoadCheckpoint(strCheckpoint)"
   ]
  },
  {
   "cell_type": "code",
   "execution_count": 32,
   "id": "amazing-syndicate",
   "metadata": {},
   "outputs": [
    {
     "data": {
      "application/vnd.jupyter.widget-view+json": {
       "model_id": "43c9fe08fde3487bbe58945de832a174",
       "version_major": 2,
       "version_minor": 0
      },
      "text/plain": [
       "Epoch:   0%|          | 0/100000 [00:00<?, ?it/s]"
      ]
     },
     "metadata": {},
     "output_type": "display_data"
    },
    {
     "data": {
      "application/vnd.jupyter.widget-view+json": {
       "model_id": "c310955ab48847edaf722ac8dacf8dbe",
       "version_major": 2,
       "version_minor": 0
      },
      "text/plain": [
       "training on frame:   0%|          | 0/20 [00:00<?, ?it/s]"
      ]
     },
     "metadata": {},
     "output_type": "display_data"
    },
    {
     "ename": "BufferError",
     "evalue": "",
     "output_type": "error",
     "traceback": [
      "\u001b[0;31m---------------------------------------------------------------------------\u001b[0m",
      "\u001b[0;31mBufferError\u001b[0m                               Traceback (most recent call last)",
      "\u001b[0;32m<ipython-input-32-50b08eeddcef>\u001b[0m in \u001b[0;36m<module>\u001b[0;34m\u001b[0m\n\u001b[1;32m      4\u001b[0m     \u001b[0mtrain_frameset\u001b[0m\u001b[0;34m=\u001b[0m\u001b[0mframesetRGB_train\u001b[0m\u001b[0;34m,\u001b[0m\u001b[0;34m\u001b[0m\u001b[0;34m\u001b[0m\u001b[0m\n\u001b[1;32m      5\u001b[0m     \u001b[0mtest_frameset\u001b[0m\u001b[0;34m=\u001b[0m\u001b[0mframesetRGB_test\u001b[0m\u001b[0;34m,\u001b[0m\u001b[0;34m\u001b[0m\u001b[0;34m\u001b[0m\u001b[0m\n\u001b[0;32m----> 6\u001b[0;31m     fVerbose=True)\n\u001b[0m",
      "\u001b[0;32m/src/repos/pyjunk/solvers/ConvVAETorchSolver.py\u001b[0m in \u001b[0;36mtrain_frameset_and_plot_losses\u001b[0;34m(self, train_frameset, test_frameset, strTitle, fVerbose)\u001b[0m\n\u001b[1;32m    113\u001b[0m             \u001b[0mtrain_frameset\u001b[0m\u001b[0;34m=\u001b[0m\u001b[0mtrain_frameset\u001b[0m\u001b[0;34m,\u001b[0m\u001b[0;34m\u001b[0m\u001b[0;34m\u001b[0m\u001b[0m\n\u001b[1;32m    114\u001b[0m             \u001b[0mtest_frameset\u001b[0m\u001b[0;34m=\u001b[0m\u001b[0mtest_frameset\u001b[0m\u001b[0;34m,\u001b[0m\u001b[0;34m\u001b[0m\u001b[0;34m\u001b[0m\u001b[0m\n\u001b[0;32m--> 115\u001b[0;31m             \u001b[0mfVerbose\u001b[0m\u001b[0;34m=\u001b[0m\u001b[0mfVerbose\u001b[0m\u001b[0;34m\u001b[0m\u001b[0;34m\u001b[0m\u001b[0m\n\u001b[0m\u001b[1;32m    116\u001b[0m         )\n\u001b[1;32m    117\u001b[0m \u001b[0;34m\u001b[0m\u001b[0m\n",
      "\u001b[0;32m/src/repos/pyjunk/solvers/ConvVAETorchSolver.py\u001b[0m in \u001b[0;36mtrain_for_epochs_frameset\u001b[0;34m(self, train_frameset, test_frameset, fVerbose)\u001b[0m\n\u001b[1;32m     91\u001b[0m         \u001b[0;32mfor\u001b[0m \u001b[0mepoch\u001b[0m \u001b[0;32min\u001b[0m \u001b[0mpbar\u001b[0m\u001b[0;34m:\u001b[0m\u001b[0;34m\u001b[0m\u001b[0;34m\u001b[0m\u001b[0m\n\u001b[1;32m     92\u001b[0m             train_losses = self.train_frameset(\n\u001b[0;32m---> 93\u001b[0;31m                 \u001b[0mtrain_frameset\u001b[0m\u001b[0;34m=\u001b[0m\u001b[0mtrain_frameset\u001b[0m\u001b[0;34m\u001b[0m\u001b[0;34m\u001b[0m\u001b[0m\n\u001b[0m\u001b[1;32m     94\u001b[0m             )\n\u001b[1;32m     95\u001b[0m             \u001b[0mtraining_losses\u001b[0m\u001b[0;34m.\u001b[0m\u001b[0mextend\u001b[0m\u001b[0;34m(\u001b[0m\u001b[0mtrain_losses\u001b[0m\u001b[0;34m)\u001b[0m\u001b[0;34m\u001b[0m\u001b[0;34m\u001b[0m\u001b[0m\n",
      "\u001b[0;32m/src/repos/pyjunk/solvers/ConvVAETorchSolver.py\u001b[0m in \u001b[0;36mtrain_frameset\u001b[0;34m(self, train_frameset)\u001b[0m\n\u001b[1;32m     38\u001b[0m             \u001b[0mstrDesc\u001b[0m \u001b[0;34m=\u001b[0m \u001b[0;34mf'training on frame {frame.strFrameID}'\u001b[0m\u001b[0;34m\u001b[0m\u001b[0;34m\u001b[0m\u001b[0m\n\u001b[1;32m     39\u001b[0m             \u001b[0mpbar\u001b[0m\u001b[0;34m.\u001b[0m\u001b[0mset_description\u001b[0m\u001b[0;34m(\u001b[0m\u001b[0mstrDesc\u001b[0m\u001b[0;34m)\u001b[0m\u001b[0;34m\u001b[0m\u001b[0;34m\u001b[0m\u001b[0m\n\u001b[0;32m---> 40\u001b[0;31m             \u001b[0mloss\u001b[0m \u001b[0;34m=\u001b[0m \u001b[0mself\u001b[0m\u001b[0;34m.\u001b[0m\u001b[0mmodel\u001b[0m\u001b[0;34m.\u001b[0m\u001b[0mloss_with_frame\u001b[0m\u001b[0;34m(\u001b[0m\u001b[0mframe\u001b[0m\u001b[0;34m)\u001b[0m\u001b[0;34m\u001b[0m\u001b[0;34m\u001b[0m\u001b[0m\n\u001b[0m\u001b[1;32m     41\u001b[0m \u001b[0;34m\u001b[0m\u001b[0m\n\u001b[1;32m     42\u001b[0m             \u001b[0mself\u001b[0m\u001b[0;34m.\u001b[0m\u001b[0moptimizer\u001b[0m\u001b[0;34m.\u001b[0m\u001b[0mzero_grad\u001b[0m\u001b[0;34m(\u001b[0m\u001b[0;34m)\u001b[0m\u001b[0;34m\u001b[0m\u001b[0;34m\u001b[0m\u001b[0m\n",
      "\u001b[0;32m/src/repos/pyjunk/models/SpatialViewConvVAE.py\u001b[0m in \u001b[0;36mloss_with_frame\u001b[0;34m(self, frameObject)\u001b[0m\n\u001b[1;32m    288\u001b[0m     \u001b[0;32mdef\u001b[0m \u001b[0mloss_with_frame\u001b[0m\u001b[0;34m(\u001b[0m\u001b[0mself\u001b[0m\u001b[0;34m,\u001b[0m \u001b[0mframeObject\u001b[0m\u001b[0;34m)\u001b[0m\u001b[0;34m:\u001b[0m\u001b[0;34m\u001b[0m\u001b[0;34m\u001b[0m\u001b[0m\n\u001b[1;32m    289\u001b[0m         \u001b[0;31m# Grab the torch tensor from the frame (this may be a particularly deep tensor)\u001b[0m\u001b[0;34m\u001b[0m\u001b[0;34m\u001b[0m\u001b[0;34m\u001b[0m\u001b[0m\n\u001b[0;32m--> 290\u001b[0;31m         \u001b[0mnpFrameBuffer\u001b[0m \u001b[0;34m=\u001b[0m \u001b[0mframeObject\u001b[0m\u001b[0;34m.\u001b[0m\u001b[0mGetNumpyBuffer\u001b[0m\u001b[0;34m(\u001b[0m\u001b[0;34m)\u001b[0m\u001b[0;34m\u001b[0m\u001b[0;34m\u001b[0m\u001b[0m\n\u001b[0m\u001b[1;32m    291\u001b[0m         \u001b[0mtorchImageBuffer\u001b[0m \u001b[0;34m=\u001b[0m \u001b[0mtorch\u001b[0m\u001b[0;34m.\u001b[0m\u001b[0mFloatTensor\u001b[0m\u001b[0;34m(\u001b[0m\u001b[0mnpFrameBuffer\u001b[0m\u001b[0;34m)\u001b[0m\u001b[0;34m\u001b[0m\u001b[0;34m\u001b[0m\u001b[0m\n\u001b[1;32m    292\u001b[0m         \u001b[0mtorchImageBuffer\u001b[0m \u001b[0;34m=\u001b[0m \u001b[0mtorchImageBuffer\u001b[0m\u001b[0;34m.\u001b[0m\u001b[0munsqueeze\u001b[0m\u001b[0;34m(\u001b[0m\u001b[0;36m0\u001b[0m\u001b[0;34m)\u001b[0m\u001b[0;34m.\u001b[0m\u001b[0mto\u001b[0m\u001b[0;34m(\u001b[0m\u001b[0mptu\u001b[0m\u001b[0;34m.\u001b[0m\u001b[0mGetDevice\u001b[0m\u001b[0;34m(\u001b[0m\u001b[0;34m)\u001b[0m\u001b[0;34m)\u001b[0m\u001b[0;34m\u001b[0m\u001b[0;34m\u001b[0m\u001b[0m\n",
      "\u001b[0;32m/src/repos/pyjunk/junktools/frame.py\u001b[0m in \u001b[0;36mGetNumpyBuffer\u001b[0;34m(self, channels)\u001b[0m\n\u001b[1;32m    232\u001b[0m             \u001b[0;32mfor\u001b[0m \u001b[0mstrName\u001b[0m\u001b[0;34m,\u001b[0m \u001b[0mchannelImage\u001b[0m \u001b[0;32min\u001b[0m \u001b[0mself\u001b[0m\u001b[0;34m.\u001b[0m\u001b[0mchannels\u001b[0m\u001b[0;34m.\u001b[0m\u001b[0mitems\u001b[0m\u001b[0;34m(\u001b[0m\u001b[0;34m)\u001b[0m\u001b[0;34m:\u001b[0m\u001b[0;34m\u001b[0m\u001b[0;34m\u001b[0m\u001b[0m\n\u001b[1;32m    233\u001b[0m                 \u001b[0;32mif\u001b[0m\u001b[0;34m(\u001b[0m\u001b[0mfFirst\u001b[0m\u001b[0;34m)\u001b[0m\u001b[0;34m:\u001b[0m\u001b[0;34m\u001b[0m\u001b[0;34m\u001b[0m\u001b[0m\n\u001b[0;32m--> 234\u001b[0;31m                     \u001b[0mnpBuffer\u001b[0m \u001b[0;34m=\u001b[0m \u001b[0mchannelImage\u001b[0m\u001b[0;34m.\u001b[0m\u001b[0mGetNumpyBuffer\u001b[0m\u001b[0;34m(\u001b[0m\u001b[0;34m)\u001b[0m\u001b[0;34m\u001b[0m\u001b[0;34m\u001b[0m\u001b[0m\n\u001b[0m\u001b[1;32m    235\u001b[0m                     \u001b[0mfFirst\u001b[0m \u001b[0;34m=\u001b[0m \u001b[0;32mFalse\u001b[0m\u001b[0;34m\u001b[0m\u001b[0;34m\u001b[0m\u001b[0m\n\u001b[1;32m    236\u001b[0m                     \u001b[0;32mif\u001b[0m\u001b[0;34m(\u001b[0m\u001b[0mchannelImage\u001b[0m\u001b[0;34m.\u001b[0m\u001b[0mfJITLoading\u001b[0m \u001b[0;34m==\u001b[0m \u001b[0;32mTrue\u001b[0m\u001b[0;34m)\u001b[0m\u001b[0;34m:\u001b[0m\u001b[0;34m\u001b[0m\u001b[0;34m\u001b[0m\u001b[0m\n",
      "\u001b[0;32m/src/repos/pyjunk/junktools/image.py\u001b[0m in \u001b[0;36mGetNumpyBuffer\u001b[0;34m(self)\u001b[0m\n\u001b[1;32m    146\u001b[0m \u001b[0;34m\u001b[0m\u001b[0m\n\u001b[1;32m    147\u001b[0m             \u001b[0;32mif\u001b[0m\u001b[0;34m(\u001b[0m\u001b[0;32mnot\u001b[0m \u001b[0misinstance\u001b[0m\u001b[0;34m(\u001b[0m\u001b[0mself\u001b[0m\u001b[0;34m.\u001b[0m\u001b[0mnpImageBuffer\u001b[0m\u001b[0;34m,\u001b[0m \u001b[0mnp\u001b[0m\u001b[0;34m.\u001b[0m\u001b[0mndarray\u001b[0m\u001b[0;34m)\u001b[0m\u001b[0;34m)\u001b[0m\u001b[0;34m:\u001b[0m\u001b[0;34m\u001b[0m\u001b[0;34m\u001b[0m\u001b[0m\n\u001b[0;32m--> 148\u001b[0;31m                 \u001b[0;32mraise\u001b[0m \u001b[0mBufferError\u001b[0m\u001b[0;34m\u001b[0m\u001b[0;34m\u001b[0m\u001b[0m\n\u001b[0m\u001b[1;32m    149\u001b[0m \u001b[0;34m\u001b[0m\u001b[0m\n\u001b[1;32m    150\u001b[0m             \u001b[0;32mreturn\u001b[0m \u001b[0mself\u001b[0m\u001b[0;34m.\u001b[0m\u001b[0mnpImageBuffer\u001b[0m\u001b[0;34m\u001b[0m\u001b[0;34m\u001b[0m\u001b[0m\n",
      "\u001b[0;31mBufferError\u001b[0m: "
     ]
    }
   ],
   "source": [
    "import torch\n",
    "\n",
    "solver.train_frameset_and_plot_losses(\n",
    "    train_frameset=framesetRGB_train, \n",
    "    test_frameset=framesetRGB_test,\n",
    "    fVerbose=True)"
   ]
  },
  {
   "cell_type": "code",
   "execution_count": 30,
   "id": "seeing-offer",
   "metadata": {},
   "outputs": [
    {
     "name": "stdout",
     "output_type": "stream",
     "text": [
      "(-1.775026216888285, 9.144957554275265, 8.389201016429702)\n"
     ]
    },
    {
     "data": {
      "image/png": "[encoded data removed]",
      "text/plain": [
       "<Figure size 432x288 with 1 Axes>"
      ]
     },
     "metadata": {
      "needs_background": "light"
     },
     "output_type": "display_data"
    }
   ],
   "source": [
    "from repos.pyjunk.junktools.CameraView import CameraView\n",
    "import math\n",
    "\n",
    "theta = 2.0 * math.pi \n",
    "phi = 1.0\n",
    "radius = 10.0\n",
    "ptLookAt = (0.0, 4.0, 0.0)\n",
    "\n",
    "x_pos = radius * math.cos(2.0 * math.pi * (theta)) \n",
    "z_pos = radius * math.sin(2.0 * math.pi * (theta))\n",
    "y_pos = radius * ((phi) * 2.0 - 1.0) * (.6)\n",
    "norm = math.sqrt(x_pos ** 2 + y_pos ** 2 + z_pos ** 2)\n",
    "x_pos = (x_pos / norm) * radius + ptLookAt[0]\n",
    "y_pos = (y_pos / norm) * radius + ptLookAt[1]\n",
    "z_pos = (z_pos / norm) * radius + ptLookAt[2]\n",
    "\n",
    "ptPosition = (x_pos, y_pos, z_pos)\n",
    "print(ptPosition)\n",
    "\n",
    "camView = CameraView(ptPosition=ptPosition, vLookAt=ptLookAt)\n",
    "gen_image = modelConvVAE.generate_with_view(camView)\n",
    "gen_image.visualize()"
   ]
  },
  {
   "cell_type": "code",
   "execution_count": 6,
   "id": "psychological-deficit",
   "metadata": {},
   "outputs": [
    {
     "data": {
      "application/vnd.jupyter.widget-view+json": {
       "model_id": "",
       "version_major": 2,
       "version_minor": 0
      },
      "text/plain": [
       "vertical divs:   0%|          | 0/7 [00:00<?, ?it/s]"
      ]
     },
     "metadata": {},
     "output_type": "display_data"
    },
    {
     "data": {
      "application/vnd.jupyter.widget-view+json": {
       "model_id": "",
       "version_major": 2,
       "version_minor": 0
      },
      "text/plain": [
       "horizontal divs:   0%|          | 0/60 [00:00<?, ?it/s]"
      ]
     },
     "metadata": {},
     "output_type": "display_data"
    },
    {
     "data": {
      "application/vnd.jupyter.widget-view+json": {
       "model_id": "",
       "version_major": 2,
       "version_minor": 0
      },
      "text/plain": [
       "horizontal divs:   0%|          | 0/60 [00:00<?, ?it/s]"
      ]
     },
     "metadata": {},
     "output_type": "display_data"
    },
    {
     "data": {
      "application/vnd.jupyter.widget-view+json": {
       "model_id": "",
       "version_major": 2,
       "version_minor": 0
      },
      "text/plain": [
       "horizontal divs:   0%|          | 0/60 [00:00<?, ?it/s]"
      ]
     },
     "metadata": {},
     "output_type": "display_data"
    },
    {
     "data": {
      "application/vnd.jupyter.widget-view+json": {
       "model_id": "",
       "version_major": 2,
       "version_minor": 0
      },
      "text/plain": [
       "horizontal divs:   0%|          | 0/60 [00:00<?, ?it/s]"
      ]
     },
     "metadata": {},
     "output_type": "display_data"
    },
    {
     "data": {
      "application/vnd.jupyter.widget-view+json": {
       "model_id": "",
       "version_major": 2,
       "version_minor": 0
      },
      "text/plain": [
       "horizontal divs:   0%|          | 0/60 [00:00<?, ?it/s]"
      ]
     },
     "metadata": {},
     "output_type": "display_data"
    },
    {
     "data": {
      "application/vnd.jupyter.widget-view+json": {
       "model_id": "",
       "version_major": 2,
       "version_minor": 0
      },
      "text/plain": [
       "horizontal divs:   0%|          | 0/60 [00:00<?, ?it/s]"
      ]
     },
     "metadata": {},
     "output_type": "display_data"
    },
    {
     "data": {
      "application/vnd.jupyter.widget-view+json": {
       "model_id": "",
       "version_major": 2,
       "version_minor": 0
      },
      "text/plain": [
       "horizontal divs:   0%|          | 0/60 [00:00<?, ?it/s]"
      ]
     },
     "metadata": {},
     "output_type": "display_data"
    },
    {
     "name": "stdout",
     "output_type": "stream",
     "text": [
      "rendered 420 frames at 37.22686313447498 microseconds/frame that's 26.86232241453409 frames per second\n"
     ]
    },
    {
     "name": "stderr",
     "output_type": "stream",
     "text": [
      "t:   2%|▏         | 9/420 [00:00<00:05, 79.26it/s, now=None]"
     ]
    },
    {
     "name": "stdout",
     "output_type": "stream",
     "text": [
      "MoviePy - Building file spatial_view_conv_vae.gif with imageio.\n"
     ]
    },
    {
     "name": "stderr",
     "output_type": "stream",
     "text": [
      "                                                              \r"
     ]
    }
   ],
   "source": [
    "#!pip install moviepy\n",
    "\n",
    "from repos.pyjunk.junktools.CameraView import CameraView\n",
    "import math\n",
    "from moviepy.editor import ImageSequenceClip\n",
    "import numpy as np\n",
    "import time\n",
    "\n",
    "from tqdm import tqdm_notebook\n",
    "\n",
    "num_divs_horz = 60\n",
    "num_divs_vert = 7\n",
    "radius_start = 1.0\n",
    "radius_end = 10.0\n",
    "radius_inc = (radius_start - radius_end) / (num_divs_horz * num_divs_vert)\n",
    "\n",
    "fps = 12\n",
    "scale = 1.0\n",
    "strFilename = \"spatial_view_conv_vae.gif\"\n",
    "ptLookAt = (0.0, 4.0, 0.0)\n",
    "\n",
    "npGifBuffers = []\n",
    "\n",
    "start_time = time.time()\n",
    "\n",
    "radius = radius_start\n",
    "#radius = radius_end\n",
    "\n",
    "pbar_vert = tqdm_notebook(range(num_divs_vert), desc='vertical divs', leave=False)\n",
    "for phi in pbar_vert:\n",
    "    pbar_horz = tqdm_notebook(range(num_divs_horz), desc='horizontal divs', leave=False)\n",
    "    for theta in pbar_horz:\n",
    "        x_pos = radius * math.cos(2.0 * math.pi * (theta / num_divs_horz)) \n",
    "        z_pos = radius * math.sin(2.0 * math.pi * (theta / num_divs_horz))\n",
    "        #y_pos = radius * ((phi / num_divs_vert) * 2.0 - 1.0) * (.6)\n",
    "        y_pos = radius * ((phi / num_divs_vert) * 2.0) * (.6) # no negative\n",
    "        norm = math.sqrt(x_pos ** 2 + y_pos ** 2 + z_pos ** 2)\n",
    "        x_pos = (x_pos / norm) * radius + ptLookAt[0]\n",
    "        y_pos = (y_pos / norm) * radius + ptLookAt[1]\n",
    "        z_pos = (z_pos / norm) * radius + ptLookAt[2]\n",
    "        \n",
    "        ptPosition = (x_pos, y_pos, z_pos)\n",
    "        camView = CameraView(ptPosition=ptPosition, vLookAt=ptLookAt)\n",
    "        #camView.Print()\n",
    "\n",
    "        gen_image = modelConvVAE.generate_with_view(camView)\n",
    "        #gen_image.visualize()\n",
    "\n",
    "        #npBuffer = gen_image.GetNumpyBuffer().transpose(2, 0, 1)\n",
    "        npBuffer = gen_image.GetNumpyBuffer() * 255.0\n",
    "        #npBuffer = numpy.clip(npBuffer, 0, 255)\n",
    "        #print(npBuffer.shape)\n",
    "        npGifBuffers.append(np.array(npBuffer))\n",
    "        \n",
    "        radius += radius_inc\n",
    "\n",
    "end_time = time.time()\n",
    "num_frames = num_divs_vert * num_divs_horz\n",
    "time_per_frame = ((end_time - start_time)/num_frames) \n",
    "fps = 1./time_per_frame\n",
    "time_per_frame *= 1000.0 # ms\n",
    "print(\"rendered %s frames at %s microseconds/frame that's %s frames per second\" % (num_frames, time_per_frame, fps))\n",
    "\n",
    "if(fps > 30):\n",
    "    fps = 30\n",
    "\n",
    "# make the moviepy clip\n",
    "clip = ImageSequenceClip(npGifBuffers, fps = fps).resize(scale)\n",
    "clip.write_gif(strFilename, fps = fps)"
   ]
  },
  {
   "cell_type": "code",
   "execution_count": null,
   "id": "golden-reaction",
   "metadata": {},
   "outputs": [],
   "source": []
  }
 ],
 "metadata": {
  "kernelspec": {
   "display_name": "Python 3",
   "language": "python",
   "name": "python3"
  },
  "language_info": {
   "codemirror_mode": {
    "name": "ipython",
    "version": 3
   },
   "file_extension": ".py",
   "mimetype": "text/x-python",
   "name": "python",
   "nbconvert_exporter": "python",
   "pygments_lexer": "ipython3",
   "version": "3.6.9"
  }
 },
 "nbformat": 4,
 "nbformat_minor": 5
}
